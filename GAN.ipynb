{
  "nbformat": 4,
  "nbformat_minor": 0,
  "metadata": {
    "colab": {
      "provenance": []
    },
    "kernelspec": {
      "name": "python3",
      "display_name": "Python 3"
    },
    "language_info": {
      "name": "python"
    }
  },
  "cells": [
    {
      "cell_type": "code",
      "execution_count": 1,
      "metadata": {
        "id": "f-BBWfl5uzsa"
      },
      "outputs": [],
      "source": [
        "#Imports and Dependencies\n",
        "\n",
        "import tensorflow as tf\n",
        "from tensorflow.keras import layers\n",
        "import numpy as np\n",
        "import matplotlib.pyplot as plt"
      ]
    },
    {
      "cell_type": "code",
      "source": [
        "# Build the Generator\n",
        "def build_generator():\n",
        "    model = tf.keras.Sequential([\n",
        "        layers.Dense(128, activation=\"relu\", input_shape=(100,)),\n",
        "        layers.Dense(784, activation=\"tanh\"),\n",
        "        layers.Reshape((28, 28))\n",
        "    ])\n",
        "    return model\n",
        "#Build the Generator\n",
        "# Build the Discriminator\n",
        "def build_discriminator():\n",
        "    model = tf.keras.Sequential([\n",
        "        layers.Flatten(input_shape=(28, 28)),\n",
        "        layers.Dense(128, activation=\"relu\"),\n",
        "        layers.Dense(1, activation=\"sigmoid\")\n",
        "    ])\n",
        "    return model\n"
      ],
      "metadata": {
        "id": "21DQgu5UEz3F"
      },
      "execution_count": 2,
      "outputs": []
    },
    {
      "cell_type": "code",
      "source": [
        "# Load and Normalize Dataset (MNIST)\n",
        "(x_train, _), _ = tf.keras.datasets.mnist.load_data()\n",
        "x_train = x_train.astype(\"float32\") / 127.5 - 1\n",
        "x_train = np.expand_dims(x_train, axis=-1)\n",
        "\n",
        "# (x_train, _), _ = tf.keras.datasets.mnist.load_data()\n",
        "# x_train = x_train.astype(\"float32\") / 127.5 - 1\n",
        "# x_train = np.expand_dims(x_train, axis=-1)\n"
      ],
      "metadata": {
        "colab": {
          "base_uri": "https://localhost:8080/"
        },
        "id": "yjc1u1-SE4g4",
        "outputId": "4558d217-8a6c-4047-c4a2-252ba14652bf"
      },
      "execution_count": 3,
      "outputs": [
        {
          "output_type": "stream",
          "name": "stdout",
          "text": [
            "Downloading data from https://storage.googleapis.com/tensorflow/tf-keras-datasets/mnist.npz\n",
            "\u001b[1m11490434/11490434\u001b[0m \u001b[32m━━━━━━━━━━━━━━━━━━━━\u001b[0m\u001b[37m\u001b[0m \u001b[1m0s\u001b[0m 0us/step\n"
          ]
        }
      ]
    },
    {
      "cell_type": "code",
      "source": [
        "# Dataset Pipeline\n",
        "\n",
        "BUFFER_SIZE = 60000\n",
        "BATCH_SIZE = 256\n",
        "train_dataset = tf.data.Dataset.from_tensor_slices(x_train).shuffle(BUFFER_SIZE).batch(BATCH_SIZE)"
      ],
      "metadata": {
        "id": "vZXvf4UhE6kq"
      },
      "execution_count": 4,
      "outputs": []
    },
    {
      "cell_type": "code",
      "source": [
        "# Initialize Models and Optimizers\n",
        "\n",
        "generator = build_generator()\n",
        "discriminator = build_discriminator()\n",
        "\n",
        "cross_entropy = tf.keras.losses.BinaryCrossentropy()\n",
        "gen_optimizer = tf.keras.optimizers.Adam(1e-4)\n",
        "disc_optimizer = tf.keras.optimizers.Adam(1e-4)"
      ],
      "metadata": {
        "colab": {
          "base_uri": "https://localhost:8080/"
        },
        "id": "POJ8W_e9E_bp",
        "outputId": "288051c8-6589-4dd3-95b6-b981c66cb913"
      },
      "execution_count": 5,
      "outputs": [
        {
          "output_type": "stream",
          "name": "stderr",
          "text": [
            "/usr/local/lib/python3.11/dist-packages/keras/src/layers/core/dense.py:87: UserWarning: Do not pass an `input_shape`/`input_dim` argument to a layer. When using Sequential models, prefer using an `Input(shape)` object as the first layer in the model instead.\n",
            "  super().__init__(activity_regularizer=activity_regularizer, **kwargs)\n",
            "/usr/local/lib/python3.11/dist-packages/keras/src/layers/reshaping/flatten.py:37: UserWarning: Do not pass an `input_shape`/`input_dim` argument to a layer. When using Sequential models, prefer using an `Input(shape)` object as the first layer in the model instead.\n",
            "  super().__init__(**kwargs)\n"
          ]
        }
      ]
    },
    {
      "cell_type": "code",
      "source": [
        "#Training Step (Single Batch)\n",
        "\n",
        "@tf.function\n",
        "def train_step(images):\n",
        "    noise = tf.random.normal([BATCH_SIZE, 100])\n",
        "    #Forward & Backward Pass\n",
        "\n",
        "    with tf.GradientTape() as disc_tape, tf.GradientTape() as gen_tape:\n",
        "        generated_images = generator(noise, training=True)\n",
        "\n",
        "        real_output = discriminator(images, training=True)\n",
        "        fake_output = discriminator(generated_images, training=True)\n",
        "        #Compute Losses\n",
        "        gen_loss = cross_entropy(tf.ones_like(fake_output), fake_output)\n",
        "        disc_loss = cross_entropy(tf.ones_like(real_output), real_output) + cross_entropy(tf.zeros_like(fake_output), fake_output)\n",
        "        # Backpropagation\n",
        "        gradients_gen = gen_tape.gradient(gen_loss, generator.trainable_variables)\n",
        "        gradients_disc = disc_tape.gradient(disc_loss, discriminator.trainable_variables)\n",
        "\n",
        "        gen_optimizer.apply_gradients(zip(gradients_gen, generator.trainable_variables))\n",
        "        disc_optimizer.apply_gradients(zip(gradients_disc, discriminator.trainable_variables))\n",
        "\n",
        "        return gen_loss, disc_loss"
      ],
      "metadata": {
        "id": "sf5QbCxSFBX0"
      },
      "execution_count": 6,
      "outputs": []
    },
    {
      "cell_type": "code",
      "source": [
        "def train(dataset, epochs=100):\n",
        "    for epoch in range(epochs):\n",
        "        for image_batch in dataset:\n",
        "            gen_loss, disc_loss = train_step(image_batch)\n",
        "        print(f\"Epoch {epoch+1}/{epochs} | Gen Loss: {gen_loss.numpy():.4f} | Disc Loss: {disc_loss.numpy():.4f}\")\n",
        "    generator.save(\"mnist_gan_generator.keras\")  # Use .keras instead of .h5\n",
        "\n",
        "# 4. Actually train the GAN!\n",
        "train(train_dataset, epochs=50)\n",
        "\n",
        "# 5. Load the trained model (for Gradio)\n",
        "generator = tf.keras.models.load_model(\"mnist_gan_generator.keras\")\n"
      ],
      "metadata": {
        "colab": {
          "base_uri": "https://localhost:8080/"
        },
        "id": "viGXQXwOFEF6",
        "outputId": "1aa893c4-f0e6-4687-d296-0cdd4ca38861"
      },
      "execution_count": 7,
      "outputs": [
        {
          "output_type": "stream",
          "name": "stdout",
          "text": [
            "Epoch 1/50 | Gen Loss: 0.6991 | Disc Loss: 0.7381\n",
            "Epoch 2/50 | Gen Loss: 1.1106 | Disc Loss: 0.4678\n",
            "Epoch 3/50 | Gen Loss: 1.5747 | Disc Loss: 0.3176\n",
            "Epoch 4/50 | Gen Loss: 1.5316 | Disc Loss: 0.3549\n",
            "Epoch 5/50 | Gen Loss: 1.4124 | Disc Loss: 0.4109\n",
            "Epoch 6/50 | Gen Loss: 1.1839 | Disc Loss: 0.5913\n",
            "Epoch 7/50 | Gen Loss: 1.1387 | Disc Loss: 0.5962\n",
            "Epoch 8/50 | Gen Loss: 1.0976 | Disc Loss: 0.7211\n",
            "Epoch 9/50 | Gen Loss: 1.0107 | Disc Loss: 0.7471\n",
            "Epoch 10/50 | Gen Loss: 0.9821 | Disc Loss: 0.7872\n",
            "Epoch 11/50 | Gen Loss: 0.9780 | Disc Loss: 0.8285\n",
            "Epoch 12/50 | Gen Loss: 0.9570 | Disc Loss: 0.8990\n",
            "Epoch 13/50 | Gen Loss: 1.1040 | Disc Loss: 0.7449\n",
            "Epoch 14/50 | Gen Loss: 1.3722 | Disc Loss: 0.5613\n",
            "Epoch 15/50 | Gen Loss: 1.3583 | Disc Loss: 0.5517\n",
            "Epoch 16/50 | Gen Loss: 1.3838 | Disc Loss: 0.5168\n",
            "Epoch 17/50 | Gen Loss: 1.4018 | Disc Loss: 0.5974\n",
            "Epoch 18/50 | Gen Loss: 1.2335 | Disc Loss: 0.6942\n",
            "Epoch 19/50 | Gen Loss: 1.2107 | Disc Loss: 0.7458\n",
            "Epoch 20/50 | Gen Loss: 1.1395 | Disc Loss: 0.8763\n",
            "Epoch 21/50 | Gen Loss: 1.4953 | Disc Loss: 0.5024\n",
            "Epoch 22/50 | Gen Loss: 1.7877 | Disc Loss: 0.4033\n",
            "Epoch 23/50 | Gen Loss: 1.2991 | Disc Loss: 0.6730\n",
            "Epoch 24/50 | Gen Loss: 1.6919 | Disc Loss: 0.4632\n",
            "Epoch 25/50 | Gen Loss: 1.2459 | Disc Loss: 0.7376\n",
            "Epoch 26/50 | Gen Loss: 1.3359 | Disc Loss: 0.6863\n",
            "Epoch 27/50 | Gen Loss: 1.1803 | Disc Loss: 0.7508\n",
            "Epoch 28/50 | Gen Loss: 1.4239 | Disc Loss: 0.6612\n",
            "Epoch 29/50 | Gen Loss: 1.5194 | Disc Loss: 0.5448\n",
            "Epoch 30/50 | Gen Loss: 1.1387 | Disc Loss: 0.8656\n",
            "Epoch 31/50 | Gen Loss: 1.3905 | Disc Loss: 0.6130\n",
            "Epoch 32/50 | Gen Loss: 1.2242 | Disc Loss: 0.7929\n",
            "Epoch 33/50 | Gen Loss: 1.1870 | Disc Loss: 0.8075\n",
            "Epoch 34/50 | Gen Loss: 1.3712 | Disc Loss: 0.6846\n",
            "Epoch 35/50 | Gen Loss: 1.4151 | Disc Loss: 0.6213\n",
            "Epoch 36/50 | Gen Loss: 1.9480 | Disc Loss: 0.3531\n",
            "Epoch 37/50 | Gen Loss: 1.6825 | Disc Loss: 0.5080\n",
            "Epoch 38/50 | Gen Loss: 1.5797 | Disc Loss: 0.4842\n",
            "Epoch 39/50 | Gen Loss: 1.6219 | Disc Loss: 0.4917\n",
            "Epoch 40/50 | Gen Loss: 1.6826 | Disc Loss: 0.5603\n",
            "Epoch 41/50 | Gen Loss: 1.7466 | Disc Loss: 0.4430\n",
            "Epoch 42/50 | Gen Loss: 1.5628 | Disc Loss: 0.6282\n",
            "Epoch 43/50 | Gen Loss: 1.7467 | Disc Loss: 0.5404\n",
            "Epoch 44/50 | Gen Loss: 2.3668 | Disc Loss: 0.2563\n",
            "Epoch 45/50 | Gen Loss: 2.0886 | Disc Loss: 0.3553\n",
            "Epoch 46/50 | Gen Loss: 2.0439 | Disc Loss: 0.3155\n",
            "Epoch 47/50 | Gen Loss: 2.0040 | Disc Loss: 0.4157\n",
            "Epoch 48/50 | Gen Loss: 2.0621 | Disc Loss: 0.3969\n",
            "Epoch 49/50 | Gen Loss: 2.0277 | Disc Loss: 0.3498\n",
            "Epoch 50/50 | Gen Loss: 1.8467 | Disc Loss: 0.4483\n"
          ]
        }
      ]
    },
    {
      "cell_type": "code",
      "source": [
        "import gradio as gr"
      ],
      "metadata": {
        "id": "HHyU_ji9FF_1"
      },
      "execution_count": 8,
      "outputs": []
    },
    {
      "cell_type": "code",
      "source": [
        "\n",
        "# Generate Image from Noise\n",
        "\n",
        "generator = tf.keras.models.load_model(\"/content/mnist_gan_generator.keras\")\n",
        "\n",
        "def generate_image(seed):\n",
        "    noise = tf.random.normal([1, 100], seed=seed)\n",
        "    generated_image = generator(noise, training=False).numpy().reshape(28, 28)\n",
        "    generated_image = (generated_image + 1) / 2.0  # Rescale to [0, 1]\n",
        "    return generated_image\n"
      ],
      "metadata": {
        "id": "-k1lQ_XtFv59"
      },
      "execution_count": 9,
      "outputs": []
    },
    {
      "cell_type": "code",
      "source": [
        "interface = gr.Interface(\n",
        "    fn=generate_image,\n",
        "    inputs=gr.Slider(minimum=0, maximum=10000, step=5, label=\"Random Seed\"),\n",
        "    outputs=gr.Image(height=280, width=280, image_mode='L', label=\"Generated Digit\"),\n",
        "    title=\"GAN Digit Generator\",\n",
        "    description=\"Generate handwritten digits using a trained GAN. Adjust the seed to change the output.\"\n",
        ")"
      ],
      "metadata": {
        "id": "my6bcOdOFx7S"
      },
      "execution_count": 10,
      "outputs": []
    },
    {
      "cell_type": "code",
      "source": [
        "interface.launch(debug=False)"
      ],
      "metadata": {
        "colab": {
          "base_uri": "https://localhost:8080/",
          "height": 650
        },
        "id": "Lof6FQc9F0Vl",
        "outputId": "1b9ade7a-2f4d-4ba1-e74f-64466b0051ad"
      },
      "execution_count": 11,
      "outputs": [
        {
          "output_type": "stream",
          "name": "stdout",
          "text": [
            "It looks like you are running Gradio on a hosted Jupyter notebook, which requires `share=True`. Automatically setting `share=True` (you can turn this off by setting `share=False` in `launch()` explicitly).\n",
            "\n",
            "Colab notebook detected. To show errors in colab notebook, set debug=True in launch()\n",
            "* Running on public URL: https://0f147cd77e83a741f6.gradio.live\n",
            "\n",
            "This share link expires in 1 week. For free permanent hosting and GPU upgrades, run `gradio deploy` from the terminal in the working directory to deploy to Hugging Face Spaces (https://huggingface.co/spaces)\n"
          ]
        },
        {
          "output_type": "display_data",
          "data": {
            "text/plain": [
              "<IPython.core.display.HTML object>"
            ],
            "text/html": [
              "<div><iframe src=\"https://0f147cd77e83a741f6.gradio.live\" width=\"100%\" height=\"500\" allow=\"autoplay; camera; microphone; clipboard-read; clipboard-write;\" frameborder=\"0\" allowfullscreen></iframe></div>"
            ]
          },
          "metadata": {}
        },
        {
          "output_type": "execute_result",
          "data": {
            "text/plain": []
          },
          "metadata": {},
          "execution_count": 11
        }
      ]
    },
    {
      "cell_type": "code",
      "source": [],
      "metadata": {
        "id": "hLGL5hmEF2fT"
      },
      "execution_count": null,
      "outputs": []
    }
  ]
}